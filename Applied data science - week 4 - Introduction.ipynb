{
    "cells": [
        {
            "metadata": {
                "collapsed": true
            },
            "cell_type": "markdown",
            "source": "# 1)Problem at hand"
        },
        {
            "metadata": {},
            "cell_type": "markdown",
            "source": "### Explainaing Geographical background\n\n#### Country of Analysis - <b> India </b>\nIndia is divided into 29 states and 6 union territories( which are states witha little different political set up and priviliges).\n<b> Haryana </b> is one of the 29 states in India.\n\nEach state is divided into smaller areas called <b> districts </b>. The number of districts are not fixed and can vary from state to state.\n\nHaryana has 22 districts\n\n### Business Problem to be solved\n\nA famous Pizza chain is thinking of expanding it's business in Haryana by opening up Pizza serving places in Haryana.\nDo begin with, the want to start with those areas where there are no pizza places (The company is keen on developing a market for pizza consumption, specially targeting the users for whom pizza taste is not yet developed\n\nThis gives a lot of freedom to the company to experiment with different fusion pizza variants\n\n### How the Problem can be approached ?\n\nTo solve the business problem for the pizza company, following solution is proposed\n1) Data pertaining to pizza places operating in various districts of the state will be analyzed\n2) Areas where there are no pizza places already will be found as well as places with low desnity of pizza places\n3) Data will be merged with population density and area of the place to find optimal places for opening a pizza cafe\n\n\n\n"
        },
        {
            "metadata": {},
            "cell_type": "markdown",
            "source": "# 2) Description of data and how it will be used to solve the problem\n\n\n### Data is extracted from these two different sources for this assignment\n#### 1) https://www.nriol.com/india-statistics/haryana/districts.asp\nWebscrapping techniques will be used to get a list of districts in Haryana. \n\n#### 2) Foursquare.com API\nFoursquare.com developers API will be sue\n"
        }
    ],
    "metadata": {
        "kernelspec": {
            "name": "python3",
            "display_name": "Python 3.6",
            "language": "python"
        },
        "language_info": {
            "name": "python",
            "version": "3.6.9",
            "mimetype": "text/x-python",
            "codemirror_mode": {
                "name": "ipython",
                "version": 3
            },
            "pygments_lexer": "ipython3",
            "nbconvert_exporter": "python",
            "file_extension": ".py"
        }
    },
    "nbformat": 4,
    "nbformat_minor": 1
}